{
 "cells": [
  {
   "cell_type": "code",
   "execution_count": null,
   "metadata": {},
   "outputs": [],
   "source": [
    "! pip install spacy nltk==3.5.0 transformers torch"
   ]
  },
  {
   "cell_type": "code",
   "execution_count": null,
   "metadata": {},
   "outputs": [],
   "source": [
    "! python3 -m spacy download en_core_web_lg"
   ]
  },
  {
   "cell_type": "code",
   "execution_count": 224,
   "metadata": {},
   "outputs": [],
   "source": [
    "input_file = \"input/universe.txt\"\n",
    "with open(input_file,encoding=\"Utf-8\") as f:\n",
    "    text = f.read()"
   ]
  },
  {
   "cell_type": "code",
   "execution_count": 225,
   "metadata": {},
   "outputs": [],
   "source": [
    "import spacy \n",
    "import re \n",
    "nlp = spacy.load('en_core_web_lg')\n",
    "\n",
    "def preprocess(text):\n",
    "    text = text.replace(\"\\n\",\" \")\n",
    "    text = re.sub(r'\\s+', ' ', text).strip()\n",
    "    doc = nlp(text)\n",
    "    sents = []\n",
    "    for sent in doc.sents:\n",
    "        noun_count = sum(1 for token in sent if token.pos_ == 'NOUN')\n",
    "        if noun_count >= 2:\n",
    "            sents.append(sent.text)\n",
    "    return sents"
   ]
  },
  {
   "cell_type": "code",
   "execution_count": 226,
   "metadata": {},
   "outputs": [
    {
     "data": {
      "text/plain": [
       "['The universe is vast and filled with mysteries that continue to captivate scientists and astronomers alike.',\n",
       " 'From the depths of space to the farthest reaches of distant galaxies, the cosmos holds countless wonders waiting to be explored.',\n",
       " 'One of the fundamental concepts in astrophysics is the Big Bang theory, which posits that the universe originated from a singular, infinitely dense point nearly 13.8 billion years ago.',\n",
       " 'Over time, the universe expanded and cooled, giving rise to the formation of galaxies, stars, and planets.',\n",
       " 'Galaxies are immense systems containing billions or even trillions of stars, as well as various types of interstellar matter such as gas, dust, and dark matter.',\n",
       " 'The Milky Way, our home galaxy, is a spiral galaxy containing hundreds of billions of stars, including our own Sun.',\n",
       " 'Stars are the celestial objects that shine brightly in the night sky, fueled by nuclear fusion reactions occurring in their cores.',\n",
       " 'They come in a variety of sizes, colors, and temperatures, with some stars being much larger and hotter than others.',\n",
       " 'The life cycle of a star depends on its mass, with massive stars undergoing supernova explosions at the end of their lives, while smaller stars like our Sun eventually evolve into white dwarfs.',\n",
       " 'Planets orbit stars and come in different types, including terrestrial planets like Earth, gas giants like Jupiter, and icy worlds like Neptune.',\n",
       " 'In our solar system, eight planets revolve around the Sun, each with its own unique characteristics and features.',\n",
       " 'Space exploration has allowed humanity to venture beyond Earth and explore the cosmos firsthand.',\n",
       " 'Missions to the Moon, Mars, and beyond have expanded our understanding of the universe and laid the groundwork for future exploration and colonization of other worlds.',\n",
       " 'The search for extraterrestrial life is a central focus of space exploration, driven by the desire to uncover whether life exists beyond Earth.',\n",
       " 'Scientists study the conditions on other planets and moons in our solar system, as well as exoplanets orbiting distant stars, in the hope of finding signs of life elsewhere in the universe.',\n",
       " 'The study of black holes, mysterious regions of spacetime where gravity is so strong that nothing, not even light, can escape, is another area of active research in astrophysics.',\n",
       " 'Black holes come in various sizes, from stellar-mass black holes formed from the collapse of massive stars to supermassive black holes that lurk at the centers of galaxies.',\n",
       " 'Cosmology, the scientific study of the origin, evolution, and eventual fate of the universe, seeks to answer some of the most profound questions about our existence.',\n",
       " 'By analyzing cosmic microwave background radiation, the distribution of galaxies, and the structure of the universe on the largest scales, cosmologists aim to unravel the mysteries of the cosmos and our place within it.']"
      ]
     },
     "execution_count": 226,
     "metadata": {},
     "output_type": "execute_result"
    }
   ],
   "source": [
    "sentences = preprocess(text)\n",
    "sentences"
   ]
  },
  {
   "cell_type": "code",
   "execution_count": 227,
   "metadata": {},
   "outputs": [],
   "source": [
    "import random\n",
    "def select_random_sents(sentences,max_choice=5):\n",
    "    random_sents = random.sample(sentences,max_choice)\n",
    "    return random_sents"
   ]
  },
  {
   "cell_type": "code",
   "execution_count": 228,
   "metadata": {},
   "outputs": [
    {
     "data": {
      "text/plain": [
       "['Cosmology, the scientific study of the origin, evolution, and eventual fate of the universe, seeks to answer some of the most profound questions about our existence.',\n",
       " 'The study of black holes, mysterious regions of spacetime where gravity is so strong that nothing, not even light, can escape, is another area of active research in astrophysics.',\n",
       " 'Planets orbit stars and come in different types, including terrestrial planets like Earth, gas giants like Jupiter, and icy worlds like Neptune.',\n",
       " 'Missions to the Moon, Mars, and beyond have expanded our understanding of the universe and laid the groundwork for future exploration and colonization of other worlds.',\n",
       " 'Scientists study the conditions on other planets and moons in our solar system, as well as exoplanets orbiting distant stars, in the hope of finding signs of life elsewhere in the universe.']"
      ]
     },
     "execution_count": 228,
     "metadata": {},
     "output_type": "execute_result"
    }
   ],
   "source": [
    "chosen_sents = select_random_sents(sentences)\n",
    "chosen_sents"
   ]
  },
  {
   "cell_type": "code",
   "execution_count": 229,
   "metadata": {},
   "outputs": [
    {
     "name": "stderr",
     "output_type": "stream",
     "text": [
      "[nltk_data] Downloading package wordnet to /home/eps/nltk_data...\n",
      "[nltk_data]   Package wordnet is already up-to-date!\n"
     ]
    }
   ],
   "source": [
    "import nltk\n",
    "nltk.download('wordnet')\n",
    "from nltk.corpus import wordnet as wn\n",
    "\n",
    "def get_distractors_wordnet(syn, word):\n",
    "    distractors = []\n",
    "    word = word.lower().replace(\" \", \"_\")\n",
    "    orig_word = word\n",
    "    hypernyms = syn.hypernyms()\n",
    "    if not hypernyms:\n",
    "        return distractors\n",
    "    for item in hypernyms[0].hyponyms():\n",
    "        name = item.lemmas()[0].name()\n",
    "        if name == orig_word:\n",
    "            continue\n",
    "        name = \" \".join(w.capitalize() for w in name.replace(\"_\", \" \").split())\n",
    "        if name and name not in distractors:\n",
    "            distractors.append(name)\n",
    "    return distractors"
   ]
  },
  {
   "cell_type": "code",
   "execution_count": 230,
   "metadata": {},
   "outputs": [
    {
     "name": "stdout",
     "output_type": "stream",
     "text": [
      "Named Entities:\n"
     ]
    },
    {
     "data": {
      "text/plain": [
       "{'CARDINAL': ['One', 'hundreds of billions', 'eight'],\n",
       " 'MONEY': ['nearly 13.8 billion', 'billions or even trillions'],\n",
       " 'DATE': ['years ago'],\n",
       " 'ORG': ['Sun', 'Neptune', 'Sun'],\n",
       " 'PERSON': ['Sun'],\n",
       " 'LOC': ['Earth', 'Jupiter', 'Earth', 'Mars', 'Earth']}"
      ]
     },
     "execution_count": 230,
     "metadata": {},
     "output_type": "execute_result"
    }
   ],
   "source": [
    "ner_dict = {}\n",
    "doc = nlp(text)\n",
    "print(\"Named Entities:\")\n",
    "for ent in doc.ents:\n",
    "    if not ent.label_ in ner_dict:\n",
    "        ner_dict[ent.label_] = []\n",
    "    ner_dict[ent.label_].append(ent.text)\n",
    "ner_dict"
   ]
  },
  {
   "cell_type": "code",
   "execution_count": 231,
   "metadata": {},
   "outputs": [
    {
     "name": "stdout",
     "output_type": "stream",
     "text": [
      "universe\n",
      "['Asterism', 'Black Body', 'Body', 'Carpet', 'Celestial Body', 'Cocoon', 'Consolidation', 'Constellation', 'Covering', 'Extraterrestrial Object', 'Mechanism', 'Nest', 'Plant Part', 'Radiator', 'Rock', 'Sample', 'Tangle']\n",
      "depth\n",
      "['Area', 'Coverage', 'Frontage', 'Length', 'Limit', 'Scope']\n",
      "years ago\n",
      "[]\n"
     ]
    }
   ],
   "source": [
    "for sent in sentences[:3]:\n",
    "    doc = nlp(sent)\n",
    "   \n",
    "    ner_nouns = [ent.text\n",
    "             for ent in doc.ents \n",
    "             if ent.label_ and nlp(ent.text)[0].pos_ == \"NOUN\"]\n",
    "    if ner_nouns:\n",
    "        answer_word = ner_nouns[0]\n",
    "        print(answer_word)\n",
    "        related = []\n",
    "\n",
    "        for key, values in ner_dict.items():\n",
    "            if answer_word in values:\n",
    "                related = [v for v in values if v != answer_word]\n",
    "        print(related)  \n",
    "    else: \n",
    "       \n",
    "        nouns = [token.lemma_.lower() for token in doc if token.pos_ == \"NOUN\"]\n",
    "        noun_freq = Counter(nouns)\n",
    "        answer_word = noun_freq.most_common(1)[0][0]\n",
    "        print(answer_word)\n",
    "        synset = wn.synsets(answer_word, 'n')\n",
    "        if synset:\n",
    "            distractors = get_distractors_wordnet(synset[0], answer_word)\n",
    "        print(distractors)"
   ]
  },
  {
   "cell_type": "code",
   "execution_count": 232,
   "metadata": {},
   "outputs": [],
   "source": [
    "from collections import Counter\n",
    "\n",
    "def extract_keywords(sent):\n",
    "    doc = nlp(sent)\n",
    "    ner_nouns = [ent.text for ent in doc.ents if ent.label_ and nlp(ent.text)[0].pos_ == \"NOUN\"]\n",
    "    if ner_nouns:\n",
    "        print(ner_nouns)\n",
    "        return ner_nouns[0]\n",
    "    nouns = [token.text for token in doc if token.pos_ == \"NOUN\"]\n",
    "    noun_freq = Counter(nouns)\n",
    "    for noun, _ in noun_freq.most_common():\n",
    "        if wn.synsets(noun, pos='n'):\n",
    "            return noun\n",
    "\n",
    "    return None  # If no valid noun with synset is found\n"
   ]
  },
  {
   "cell_type": "code",
   "execution_count": 233,
   "metadata": {},
   "outputs": [],
   "source": [
    "# def extract_distractors(word):\n",
    "#     doc = nlp(word)\n",
    "#     lemma = doc[0].lemma_.lower()\n",
    "#     distractors = []\n",
    "#     for key, values in ner_dict.items():\n",
    "#         if lemma in [nlp(v)[0].lemma_.lower() for v in values]:\n",
    "#             related_distractors = [v for v in values if nlp(v)[0].lemma_.lower() != lemma]\n",
    "#             # Supplement with WordNet if needed\n",
    "#             if len(related_distractors) < 3:\n",
    "#                 synsets = wn.synsets(lemma, pos='n')\n",
    "#                 if synsets:\n",
    "#                     wn_distractors = get_distractors_wordnet(synsets[0], lemma)\n",
    "#                     distractors = related_distractors + wn_distractors\n",
    "#                     return distractors[:3]\n",
    "#             return related_distractors[:3]\n",
    "\n",
    "#     synsets = wn.synsets(lemma, pos='n')\n",
    "#     if synsets:\n",
    "#         distractors = get_distractors_wordnet(synsets[0], lemma)\n",
    "\n",
    "#     return distractors[:3] if distractors else []\n"
   ]
  },
  {
   "cell_type": "code",
   "execution_count": 234,
   "metadata": {},
   "outputs": [],
   "source": [
    "def extract_distractors(word):\n",
    "    \n",
    "    for key, values in ner_dict.items():\n",
    "        if word in values:\n",
    "            related_distractors = [v for v in values if v != word]\n",
    "            if len(related_distractors) < 3:\n",
    "                synset = wn.synsets(word[0], 'n')\n",
    "                if synset:\n",
    "                    distractors = get_distractors_wordnet(synset[0], word)\n",
    "                    distractors = related_distractors+distractors\n",
    "                    return distractors[:3]\n",
    "    \n",
    "    synset = wn.synsets(word, 'n')\n",
    "    if synset:\n",
    "        distractors = get_distractors_wordnet(synset[0], word)\n",
    "    return distractors[:3]"
   ]
  },
  {
   "cell_type": "code",
   "execution_count": 235,
   "metadata": {},
   "outputs": [],
   "source": [
    "def generate_questions(sentences):\n",
    "    questions = {}\n",
    "    i = 0\n",
    "    for sent in sentences:\n",
    "        keyword = extract_keywords(sent)\n",
    "        if keyword:\n",
    "            distractors = extract_distractors(keyword)\n",
    "\n",
    "            question_sent = sent.replace(keyword, \"_______\")\n",
    "            questions[i] = {\n",
    "                'question': question_sent,\n",
    "                'answer': keyword,\n",
    "                'options': distractors\n",
    "            }\n",
    "            \n",
    "            i += 1\n",
    "    return questions\n"
   ]
  },
  {
   "cell_type": "code",
   "execution_count": 236,
   "metadata": {},
   "outputs": [
    {
     "name": "stdout",
     "output_type": "stream",
     "text": [
      "['years ago']\n"
     ]
    },
    {
     "data": {
      "text/plain": [
       "{0: {'question': 'The _______ is vast and filled with mysteries that continue to captivate scientists and astronomers alike.',\n",
       "  'answer': 'universe',\n",
       "  'options': ['Asterism', 'Black Body', 'Body']},\n",
       " 1: {'question': 'From the _______ of space to the farthest reaches of distant galaxies, the cosmos holds countless wonders waiting to be explored.',\n",
       "  'answer': 'depths',\n",
       "  'options': ['Area', 'Coverage', 'Depth']},\n",
       " 2: {'question': 'One of the fundamental concepts in astrophysics is the Big Bang theory, which posits that the universe originated from a singular, infinitely dense point nearly 13.8 billion _______.',\n",
       "  'answer': 'years ago',\n",
       "  'options': ['Alkali Metal', 'Alkaline Earth', 'Aluminum']}}"
      ]
     },
     "execution_count": 236,
     "metadata": {},
     "output_type": "execute_result"
    }
   ],
   "source": [
    "questions = generate_questions(sentences[:3])\n",
    "questions"
   ]
  },
  {
   "cell_type": "code",
   "execution_count": null,
   "metadata": {},
   "outputs": [],
   "source": [
    "import random\n",
    "import string\n",
    "\n",
    "def format_mcqs(questions):\n",
    "    formatted = {}\n",
    "\n",
    "    for qid, qdata in questions.items():\n",
    "        all_options = qdata['options'] + [qdata['answer']]\n",
    "        random.shuffle(all_options)\n",
    "\n",
    "        # Map options to letters A, B, C, ...\n",
    "        option_labels = list(string.ascii_uppercase)\n",
    "        options = {option_labels[i]: opt.lower() for i, opt in enumerate(all_options)}\n",
    "\n",
    "        # Find which letter is the correct answer\n",
    "        correct_letter = next(k for k, v in options.items() if v == qdata['answer'].lower())\n",
    "\n",
    "        formatted[qid] = {\n",
    "            'question': qdata['question'],\n",
    "            'options': options,\n",
    "            'answer': correct_letter\n",
    "        }\n",
    "\n",
    "    return formatted\n"
   ]
  },
  {
   "cell_type": "markdown",
   "metadata": {},
   "source": []
  },
  {
   "cell_type": "code",
   "execution_count": 238,
   "metadata": {},
   "outputs": [
    {
     "data": {
      "text/plain": [
       "{0: {'question': 'The _______ is vast and filled with mysteries that continue to captivate scientists and astronomers alike.',\n",
       "  'answer': 'universe',\n",
       "  'options': ['Asterism', 'Black Body', 'Body']},\n",
       " 1: {'question': 'From the _______ of space to the farthest reaches of distant galaxies, the cosmos holds countless wonders waiting to be explored.',\n",
       "  'answer': 'depths',\n",
       "  'options': ['Area', 'Coverage', 'Depth']},\n",
       " 2: {'question': 'One of the fundamental concepts in astrophysics is the Big Bang theory, which posits that the universe originated from a singular, infinitely dense point nearly 13.8 billion _______.',\n",
       "  'answer': 'years ago',\n",
       "  'options': ['Alkali Metal', 'Alkaline Earth', 'Aluminum']}}"
      ]
     },
     "execution_count": 238,
     "metadata": {},
     "output_type": "execute_result"
    }
   ],
   "source": [
    "questions"
   ]
  },
  {
   "cell_type": "code",
   "execution_count": 249,
   "metadata": {},
   "outputs": [
    {
     "data": {
      "text/plain": [
       "{0: {'question': 'The _______ is vast and filled with mysteries that continue to captivate scientists and astronomers alike.',\n",
       "  'options': {'A': 'asterism',\n",
       "   'B': 'body',\n",
       "   'C': 'universe',\n",
       "   'D': 'black body'},\n",
       "  'answer': 'C'},\n",
       " 1: {'question': 'From the _______ of space to the farthest reaches of distant galaxies, the cosmos holds countless wonders waiting to be explored.',\n",
       "  'options': {'A': 'area', 'B': 'depth', 'C': 'depths', 'D': 'coverage'},\n",
       "  'answer': 'C'},\n",
       " 2: {'question': 'One of the fundamental concepts in astrophysics is the Big Bang theory, which posits that the universe originated from a singular, infinitely dense point nearly 13.8 billion _______.',\n",
       "  'options': {'A': 'aluminum',\n",
       "   'B': 'years ago',\n",
       "   'C': 'alkali metal',\n",
       "   'D': 'alkaline earth'},\n",
       "  'answer': 'B'}}"
      ]
     },
     "execution_count": 249,
     "metadata": {},
     "output_type": "execute_result"
    }
   ],
   "source": [
    "format_mcqs(questions)"
   ]
  },
  {
   "cell_type": "code",
   "execution_count": 256,
   "metadata": {},
   "outputs": [],
   "source": [
    "def text_to_questions_pipeline(text_file):\n",
    "    with open(text_file, encoding=\"utf-8\") as f:\n",
    "        text = f.read()\n",
    "    \n",
    "    text = text.replace(\"\\n\", \" \").strip()\n",
    "    text = re.sub(r'\\s+', ' ', text)\n",
    "    doc = nlp(text)\n",
    "    sentences = [sent.text for sent in doc.sents if sum(1 for token in sent if token.pos_ == 'NOUN') >= 2]\n",
    "    \n",
    "    chosen_sents = random.sample(sentences, min(5, len(sentences)))\n",
    "\n",
    "    questions = {}\n",
    "    for i, sent in enumerate(chosen_sents):\n",
    "        keyword = extract_keywords(sent)\n",
    "        if keyword:\n",
    "            distractors = extract_distractors(keyword)\n",
    "            question_sent = sent.replace(keyword, \"_______\")\n",
    "            questions[i+1] = {\n",
    "                'question': question_sent,\n",
    "                'answer': keyword,\n",
    "                'options': [keyword] + distractors[:3] \n",
    "            }\n",
    "    # return questions\n",
    "    return format_mcqs(questions)"
   ]
  },
  {
   "cell_type": "code",
   "execution_count": 257,
   "metadata": {},
   "outputs": [
    {
     "name": "stdout",
     "output_type": "stream",
     "text": [
      "['billions or even trillions']\n",
      "['Earth']\n",
      "{'question': 'Galaxies are immense systems containing _______ of stars, as well as various types of interstellar matter such as gas, dust, and dark matter.', 'options': {'A': 'Actinomyces', 'B': 'billions or even trillions', 'C': 'nearly 13.8 billion', 'D': 'billions or even trillions', 'E': 'Actinomycete'}, 'answer': 'B'}\n",
      "{'question': 'The life cycle of a star depends on its mass, with massive _______ undergoing supernova explosions at the end of their lives, while smaller _______ like our Sun eventually evolve into white dwarfs.', 'options': {'A': 'Planetesimal', 'B': 'Minor Planet', 'C': 'Planet', 'D': 'stars', 'E': 'stars'}, 'answer': 'D'}\n",
      "{'question': 'Black _______ come in various sizes, from stellar-mass black _______ formed from the collapse of massive stars to supermassive black _______ that lurk at the centers of galaxies.', 'options': {'A': 'holes', 'B': 'holes', 'C': 'Chasm', 'D': 'Breach', 'E': 'Crack'}, 'answer': 'A'}\n",
      "{'question': 'They come in a _______ of sizes, colors, and temperatures, with some stars being much larger and hotter than others.', 'options': {'A': 'Armamentarium', 'B': 'variety', 'C': 'Agglomeration', 'D': 'Ana', 'E': 'variety'}, 'answer': 'B'}\n",
      "{'question': 'The search for extraterrestrial life is a central focus of space exploration, driven by the desire to uncover whether life exists beyond _______.', 'options': {'A': 'Earth', 'B': 'Jupiter', 'C': 'Earth', 'D': 'Beta-naphthol', 'E': 'Mars'}, 'answer': 'A'}\n"
     ]
    },
    {
     "data": {
      "text/plain": [
       "{1: {'question': 'Galaxies are immense systems containing _______ of stars, as well as various types of interstellar matter such as gas, dust, and dark matter.',\n",
       "  'options': {'A': 'Actinomyces',\n",
       "   'B': 'billions or even trillions',\n",
       "   'C': 'nearly 13.8 billion',\n",
       "   'D': 'billions or even trillions',\n",
       "   'E': 'Actinomycete'},\n",
       "  'answer': 'B'},\n",
       " 2: {'question': 'The life cycle of a star depends on its mass, with massive _______ undergoing supernova explosions at the end of their lives, while smaller _______ like our Sun eventually evolve into white dwarfs.',\n",
       "  'options': {'A': 'Planetesimal',\n",
       "   'B': 'Minor Planet',\n",
       "   'C': 'Planet',\n",
       "   'D': 'stars',\n",
       "   'E': 'stars'},\n",
       "  'answer': 'D'},\n",
       " 3: {'question': 'Black _______ come in various sizes, from stellar-mass black _______ formed from the collapse of massive stars to supermassive black _______ that lurk at the centers of galaxies.',\n",
       "  'options': {'A': 'holes',\n",
       "   'B': 'holes',\n",
       "   'C': 'Chasm',\n",
       "   'D': 'Breach',\n",
       "   'E': 'Crack'},\n",
       "  'answer': 'A'},\n",
       " 4: {'question': 'They come in a _______ of sizes, colors, and temperatures, with some stars being much larger and hotter than others.',\n",
       "  'options': {'A': 'Armamentarium',\n",
       "   'B': 'variety',\n",
       "   'C': 'Agglomeration',\n",
       "   'D': 'Ana',\n",
       "   'E': 'variety'},\n",
       "  'answer': 'B'},\n",
       " 5: {'question': 'The search for extraterrestrial life is a central focus of space exploration, driven by the desire to uncover whether life exists beyond _______.',\n",
       "  'options': {'A': 'Earth',\n",
       "   'B': 'Jupiter',\n",
       "   'C': 'Earth',\n",
       "   'D': 'Beta-naphthol',\n",
       "   'E': 'Mars'},\n",
       "  'answer': 'A'}}"
      ]
     },
     "execution_count": 257,
     "metadata": {},
     "output_type": "execute_result"
    }
   ],
   "source": [
    "text_to_questions_pipeline('input/universe.txt')"
   ]
  }
 ],
 "metadata": {
  "kernelspec": {
   "display_name": "venv",
   "language": "python",
   "name": "python3"
  },
  "language_info": {
   "codemirror_mode": {
    "name": "ipython",
    "version": 3
   },
   "file_extension": ".py",
   "mimetype": "text/x-python",
   "name": "python",
   "nbconvert_exporter": "python",
   "pygments_lexer": "ipython3",
   "version": "3.12.0"
  }
 },
 "nbformat": 4,
 "nbformat_minor": 2
}
